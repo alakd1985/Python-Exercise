{
 "cells": [
  {
   "cell_type": "code",
   "execution_count": 3,
   "metadata": {},
   "outputs": [
    {
     "name": "stdout",
     "output_type": "stream",
     "text": [
      "Please write a line: Bangladesh is a beautiful country\n",
      "Please enter the substring of the line: a\n",
      "Found in the position  1\n",
      "Found in the position  5\n",
      "Found in the position  14\n",
      "Found in the position  18\n"
     ]
    }
   ],
   "source": [
    "#Program to display all Positions of Substring in a given Main String\n",
    "s = input('Please write a line: ')\n",
    "subs = input('Please enter the substring of the line: ')\n",
    "n = len(s)\n",
    "flag = False\n",
    "pos = -1\n",
    "while True:\n",
    "    pos = s.find(subs, pos + 1, n)\n",
    "    if pos == -1:\n",
    "        break\n",
    "    print(\"Found in the position \", pos)\n",
    "    flag = True\n",
    "if flag == False:\n",
    "    print(\"Nothing found\")"
   ]
  },
  {
   "cell_type": "code",
   "execution_count": 6,
   "metadata": {},
   "outputs": [
    {
     "name": "stdout",
     "output_type": "stream",
     "text": [
      "Please write a line: Bangladesh is a beautiful country\n",
      "Please enter the substring of the line: a\n",
      "4\n"
     ]
    }
   ],
   "source": [
    "# count of string\n",
    "s = input('Please write a line: ')\n",
    "subs = input('Please enter the substring of the line: ')\n",
    "c = print(s.count(subs))"
   ]
  },
  {
   "cell_type": "code",
   "execution_count": 7,
   "metadata": {},
   "outputs": [
    {
     "name": "stdout",
     "output_type": "stream",
     "text": [
      "learning python is very difficult\n"
     ]
    }
   ],
   "source": [
    "# Replacing string with new string\n",
    "old = 'learning python is very easy'\n",
    "new = print(old.replace('easy','difficult'))\n"
   ]
  },
  {
   "cell_type": "code",
   "execution_count": 2,
   "metadata": {},
   "outputs": [
    {
     "name": "stdout",
     "output_type": "stream",
     "text": [
      "Usa\n",
      "is\n",
      "a\n",
      "beautiful\n",
      "country\n"
     ]
    }
   ],
   "source": [
    "#Spliting the string-1\n",
    "s = 'Usa is a beautiful country'\n",
    "ss = s.split()\n",
    "for x in ss:\n",
    "    print(x)"
   ]
  },
  {
   "cell_type": "code",
   "execution_count": 6,
   "metadata": {},
   "outputs": [
    {
     "name": "stdout",
     "output_type": "stream",
     "text": [
      "['10', '12', '2020']\n"
     ]
    }
   ],
   "source": [
    "#Spliting the string-2\n",
    "s = '10-12-2020'\n",
    "ss = print(s.split('-'))"
   ]
  },
  {
   "cell_type": "code",
   "execution_count": 8,
   "metadata": {},
   "outputs": [
    {
     "name": "stdout",
     "output_type": "stream",
     "text": [
      "Alak:Kanti:Dutta\n"
     ]
    }
   ],
   "source": [
    "# Joining of strings\n",
    "t = ('Alak','Kanti','Dutta')\n",
    "j = print(':'.join(t))"
   ]
  },
  {
   "cell_type": "code",
   "execution_count": 3,
   "metadata": {},
   "outputs": [
    {
     "name": "stdout",
     "output_type": "stream",
     "text": [
      "Please enter a line: I live in Virginia\n",
      "I LIVE IN VIRGINIA\n",
      "i live in virginia\n",
      "i LIVE IN vIRGINIA\n",
      "I live in virginia\n",
      "I Live In Virginia\n"
     ]
    }
   ],
   "source": [
    "# Changing the case of the string\n",
    "t = input('Please enter a line: ')\n",
    "up = print(t.upper()) # To convert all characters to upper case\n",
    "low = print(t.lower()) # To convert all characters to lower case\n",
    "swap = print(t.swapcase()) # Converts all lower case characters to upper case and all upper case characters to lower case\n",
    "cap = print(t.capitalize()) #  Only first character will be converted to upper case and all remaining characters can be converted to lower case\n",
    "tit = print(t.title()) # To convert all character to title case. i.e first character in every word should \n",
    "#be upper case and all remaining characters should be in lower case"
   ]
  },
  {
   "cell_type": "code",
   "execution_count": null,
   "metadata": {},
   "outputs": [],
   "source": []
  }
 ],
 "metadata": {
  "kernelspec": {
   "display_name": "Python 3",
   "language": "python",
   "name": "python3"
  },
  "language_info": {
   "codemirror_mode": {
    "name": "ipython",
    "version": 3
   },
   "file_extension": ".py",
   "mimetype": "text/x-python",
   "name": "python",
   "nbconvert_exporter": "python",
   "pygments_lexer": "ipython3",
   "version": "3.7.1rc2"
  }
 },
 "nbformat": 4,
 "nbformat_minor": 2
}
